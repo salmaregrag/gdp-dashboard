{
  "cells": [
    {
      "cell_type": "markdown",
      "metadata": {
        "id": "view-in-github",
        "colab_type": "text"
      },
      "source": [
        "<a href=\"https://colab.research.google.com/github/salmaregrag/gdp-dashboard/blob/main/TP1_LinearRegression2.ipynb\" target=\"_parent\"><img src=\"https://colab.research.google.com/assets/colab-badge.svg\" alt=\"Open In Colab\"/></a>"
      ]
    },
    {
      "cell_type": "markdown",
      "metadata": {
        "id": "fitv0OOcAwUV"
      },
      "source": [
        "# TP: Machine Learning\n",
        "\n",
        "## TP1: Linear Regression (4h)  \n",
        "\n",
        "Linear regression is a family of machine learning algorithms aiming at adjusting a linear model to an ensemble of data. The applications range from signal reconstruction to empirical description.\n",
        "\n",
        "The given dataset was produced by the World Health Organization. It pooled the evolution of 20 features for 15 years and among numerous countries. One of the goals of this TP1 is to manipulate this dataset and try to predict the evolution of Life Expectancy through different variables.\n",
        "\n",
        "**Objectives:**\n",
        "- Use and setup an iPython environment\n",
        "- Manipulate and visualize data\n",
        "- Implement a simple linear regression\n",
        "- Apply the aforementioned linear regression\n",
        "- Compute a $R^2$ on the generated results\n",
        "- Apply Ridge and Lasso regressions\n",
        "\n",
        "\n",
        "To code this TP, you can use your own iPython environment, or chose to use the ENSEA's jupyter server available on https://io.ensea.fr\n",
        "\n",
        "This TP has different **checkpoints**. Please call your teacher at the end of each checkpoint to validate your work. Any non validated work won't be taken into account in the notation\n"
      ]
    },
    {
      "cell_type": "markdown",
      "metadata": {
        "id": "zByLC3qEH6Tz"
      },
      "source": [
        "## STEP 1: Use and setup an iPython environment"
      ]
    },
    {
      "cell_type": "markdown",
      "metadata": {
        "id": "JFtU-3tJK23k"
      },
      "source": [
        "iPython and Notebook environments are useful tools to quickly prototype and test machine learning solutions. However, they have limitations especially in RAM and disk access."
      ]
    },
    {
      "cell_type": "markdown",
      "metadata": {
        "id": "Ko9W3iTnIISS"
      },
      "source": [
        "**TO DO 1.1**\n",
        "\n",
        "Execute the following cells"
      ]
    },
    {
      "cell_type": "code",
      "execution_count": 1,
      "metadata": {
        "id": "H8SLi4uEBG3K"
      },
      "outputs": [],
      "source": [
        "a = 3\n",
        "b = 4\n",
        "c = a + b"
      ]
    },
    {
      "cell_type": "code",
      "execution_count": null,
      "metadata": {
        "id": "8hM_aMdCIvZK"
      },
      "outputs": [],
      "source": [
        "c = c"
      ]
    },
    {
      "cell_type": "code",
      "execution_count": null,
      "metadata": {
        "id": "YqOVDV_7ISXN",
        "outputId": "c0807bf8-07d2-4446-c85d-b9cc47be715c"
      },
      "outputs": [
        {
          "name": "stdout",
          "output_type": "stream",
          "text": [
            "7\n"
          ]
        }
      ],
      "source": [
        "print(c)"
      ]
    },
    {
      "cell_type": "code",
      "execution_count": null,
      "metadata": {
        "id": "bSy3G2LbFH5q",
        "outputId": "d84bc1de-0037-4d27-9c71-84d9a0712fb0"
      },
      "outputs": [
        {
          "data": {
            "text/plain": [
              "7"
            ]
          },
          "execution_count": 5,
          "metadata": {},
          "output_type": "execute_result"
        }
      ],
      "source": [
        "c"
      ]
    },
    {
      "cell_type": "markdown",
      "metadata": {
        "id": "7ToVYPUPI0ib"
      },
      "source": [
        "**QUESTION 1**\n",
        "\n",
        "What is triggering the output display?"
      ]
    },
    {
      "cell_type": "markdown",
      "metadata": {
        "id": "04BeCMcuKDpj"
      },
      "source": [
        "**TO DO 1.2**\n",
        "\n",
        "Execute the following cells"
      ]
    },
    {
      "cell_type": "code",
      "execution_count": null,
      "metadata": {
        "id": "jwKMM5ofJZL3"
      },
      "outputs": [],
      "source": [
        "import shutil\n",
        "import pkgutil\n",
        "\n",
        "def show_acceptable_modules():\n",
        "    line = '-' * 100\n",
        "    print('{}\\n{:^30}|{:^20}\\n{}'.format(line, 'Module', 'Location', line))\n",
        "    for entry in pkgutil.iter_modules():\n",
        "        print('{:30}| {}'.format(entry[1], entry[0].path))"
      ]
    },
    {
      "cell_type": "code",
      "execution_count": null,
      "metadata": {
        "id": "D0hybzmjKI0P",
        "outputId": "95670829-cf06-476d-8896-ca9e3fef8490"
      },
      "outputs": [
        {
          "name": "stdout",
          "output_type": "stream",
          "text": [
            "----------------------------------------------------------------------------------------------------\n",
            "            Module            |      Location      \n",
            "----------------------------------------------------------------------------------------------------\n",
            "TP1                           | .\n",
            "__future__                    | /usr/lib/python3.6\n",
            "_bootlocale                   | /usr/lib/python3.6\n",
            "_collections_abc              | /usr/lib/python3.6\n",
            "_compat_pickle                | /usr/lib/python3.6\n",
            "_compression                  | /usr/lib/python3.6\n",
            "_dummy_thread                 | /usr/lib/python3.6\n",
            "_markupbase                   | /usr/lib/python3.6\n",
            "_osx_support                  | /usr/lib/python3.6\n",
            "_pydecimal                    | /usr/lib/python3.6\n",
            "_pyio                         | /usr/lib/python3.6\n",
            "_sitebuiltins                 | /usr/lib/python3.6\n",
            "_strptime                     | /usr/lib/python3.6\n",
            "_sysconfigdata_m_linux_x86_64-linux-gnu| /usr/lib/python3.6\n",
            "_threading_local              | /usr/lib/python3.6\n",
            "_weakrefset                   | /usr/lib/python3.6\n",
            "abc                           | /usr/lib/python3.6\n",
            "aifc                          | /usr/lib/python3.6\n",
            "antigravity                   | /usr/lib/python3.6\n",
            "argparse                      | /usr/lib/python3.6\n",
            "ast                           | /usr/lib/python3.6\n",
            "asynchat                      | /usr/lib/python3.6\n",
            "asyncio                       | /usr/lib/python3.6\n",
            "asyncore                      | /usr/lib/python3.6\n",
            "base64                        | /usr/lib/python3.6\n",
            "bdb                           | /usr/lib/python3.6\n",
            "binhex                        | /usr/lib/python3.6\n",
            "bisect                        | /usr/lib/python3.6\n",
            "bz2                           | /usr/lib/python3.6\n",
            "cProfile                      | /usr/lib/python3.6\n",
            "calendar                      | /usr/lib/python3.6\n",
            "cgi                           | /usr/lib/python3.6\n",
            "cgitb                         | /usr/lib/python3.6\n",
            "chunk                         | /usr/lib/python3.6\n",
            "cmd                           | /usr/lib/python3.6\n",
            "code                          | /usr/lib/python3.6\n",
            "codecs                        | /usr/lib/python3.6\n",
            "codeop                        | /usr/lib/python3.6\n",
            "collections                   | /usr/lib/python3.6\n",
            "colorsys                      | /usr/lib/python3.6\n",
            "compileall                    | /usr/lib/python3.6\n",
            "concurrent                    | /usr/lib/python3.6\n",
            "configparser                  | /usr/lib/python3.6\n",
            "contextlib                    | /usr/lib/python3.6\n",
            "copy                          | /usr/lib/python3.6\n",
            "copyreg                       | /usr/lib/python3.6\n",
            "crypt                         | /usr/lib/python3.6\n",
            "csv                           | /usr/lib/python3.6\n",
            "ctypes                        | /usr/lib/python3.6\n",
            "curses                        | /usr/lib/python3.6\n",
            "datetime                      | /usr/lib/python3.6\n",
            "dbm                           | /usr/lib/python3.6\n",
            "decimal                       | /usr/lib/python3.6\n",
            "difflib                       | /usr/lib/python3.6\n",
            "dis                           | /usr/lib/python3.6\n",
            "distutils                     | /usr/lib/python3.6\n",
            "doctest                       | /usr/lib/python3.6\n",
            "dummy_threading               | /usr/lib/python3.6\n",
            "email                         | /usr/lib/python3.6\n",
            "encodings                     | /usr/lib/python3.6\n",
            "enum                          | /usr/lib/python3.6\n",
            "filecmp                       | /usr/lib/python3.6\n",
            "fileinput                     | /usr/lib/python3.6\n",
            "fnmatch                       | /usr/lib/python3.6\n",
            "formatter                     | /usr/lib/python3.6\n",
            "fractions                     | /usr/lib/python3.6\n",
            "ftplib                        | /usr/lib/python3.6\n",
            "functools                     | /usr/lib/python3.6\n",
            "genericpath                   | /usr/lib/python3.6\n",
            "getopt                        | /usr/lib/python3.6\n",
            "getpass                       | /usr/lib/python3.6\n",
            "gettext                       | /usr/lib/python3.6\n",
            "glob                          | /usr/lib/python3.6\n",
            "gzip                          | /usr/lib/python3.6\n",
            "hashlib                       | /usr/lib/python3.6\n",
            "heapq                         | /usr/lib/python3.6\n",
            "hmac                          | /usr/lib/python3.6\n",
            "html                          | /usr/lib/python3.6\n",
            "http                          | /usr/lib/python3.6\n",
            "imaplib                       | /usr/lib/python3.6\n",
            "imghdr                        | /usr/lib/python3.6\n",
            "imp                           | /usr/lib/python3.6\n",
            "importlib                     | /usr/lib/python3.6\n",
            "inspect                       | /usr/lib/python3.6\n",
            "io                            | /usr/lib/python3.6\n",
            "ipaddress                     | /usr/lib/python3.6\n",
            "json                          | /usr/lib/python3.6\n",
            "keyword                       | /usr/lib/python3.6\n",
            "lib2to3                       | /usr/lib/python3.6\n",
            "linecache                     | /usr/lib/python3.6\n",
            "locale                        | /usr/lib/python3.6\n",
            "logging                       | /usr/lib/python3.6\n",
            "lzma                          | /usr/lib/python3.6\n",
            "macpath                       | /usr/lib/python3.6\n",
            "macurl2path                   | /usr/lib/python3.6\n",
            "mailbox                       | /usr/lib/python3.6\n",
            "mailcap                       | /usr/lib/python3.6\n",
            "mimetypes                     | /usr/lib/python3.6\n",
            "modulefinder                  | /usr/lib/python3.6\n",
            "multiprocessing               | /usr/lib/python3.6\n",
            "netrc                         | /usr/lib/python3.6\n",
            "nntplib                       | /usr/lib/python3.6\n",
            "ntpath                        | /usr/lib/python3.6\n",
            "nturl2path                    | /usr/lib/python3.6\n",
            "numbers                       | /usr/lib/python3.6\n",
            "opcode                        | /usr/lib/python3.6\n",
            "operator                      | /usr/lib/python3.6\n",
            "optparse                      | /usr/lib/python3.6\n",
            "os                            | /usr/lib/python3.6\n",
            "pathlib                       | /usr/lib/python3.6\n",
            "pdb                           | /usr/lib/python3.6\n",
            "pickle                        | /usr/lib/python3.6\n",
            "pickletools                   | /usr/lib/python3.6\n",
            "pipes                         | /usr/lib/python3.6\n",
            "pkgutil                       | /usr/lib/python3.6\n",
            "platform                      | /usr/lib/python3.6\n",
            "plistlib                      | /usr/lib/python3.6\n",
            "poplib                        | /usr/lib/python3.6\n",
            "posixpath                     | /usr/lib/python3.6\n",
            "pprint                        | /usr/lib/python3.6\n",
            "profile                       | /usr/lib/python3.6\n",
            "pstats                        | /usr/lib/python3.6\n",
            "pty                           | /usr/lib/python3.6\n",
            "py_compile                    | /usr/lib/python3.6\n",
            "pyclbr                        | /usr/lib/python3.6\n",
            "pydoc                         | /usr/lib/python3.6\n",
            "pydoc_data                    | /usr/lib/python3.6\n",
            "queue                         | /usr/lib/python3.6\n",
            "quopri                        | /usr/lib/python3.6\n",
            "random                        | /usr/lib/python3.6\n",
            "re                            | /usr/lib/python3.6\n",
            "reprlib                       | /usr/lib/python3.6\n",
            "rlcompleter                   | /usr/lib/python3.6\n",
            "runpy                         | /usr/lib/python3.6\n",
            "sched                         | /usr/lib/python3.6\n",
            "secrets                       | /usr/lib/python3.6\n",
            "selectors                     | /usr/lib/python3.6\n",
            "shelve                        | /usr/lib/python3.6\n",
            "shlex                         | /usr/lib/python3.6\n",
            "shutil                        | /usr/lib/python3.6\n",
            "signal                        | /usr/lib/python3.6\n",
            "site                          | /usr/lib/python3.6\n",
            "sitecustomize                 | /usr/lib/python3.6\n",
            "smtpd                         | /usr/lib/python3.6\n",
            "smtplib                       | /usr/lib/python3.6\n",
            "sndhdr                        | /usr/lib/python3.6\n",
            "socket                        | /usr/lib/python3.6\n",
            "socketserver                  | /usr/lib/python3.6\n",
            "sqlite3                       | /usr/lib/python3.6\n",
            "sre_compile                   | /usr/lib/python3.6\n",
            "sre_constants                 | /usr/lib/python3.6\n",
            "sre_parse                     | /usr/lib/python3.6\n",
            "ssl                           | /usr/lib/python3.6\n",
            "stat                          | /usr/lib/python3.6\n",
            "statistics                    | /usr/lib/python3.6\n",
            "string                        | /usr/lib/python3.6\n",
            "stringprep                    | /usr/lib/python3.6\n",
            "struct                        | /usr/lib/python3.6\n",
            "subprocess                    | /usr/lib/python3.6\n",
            "sunau                         | /usr/lib/python3.6\n",
            "symbol                        | /usr/lib/python3.6\n",
            "symtable                      | /usr/lib/python3.6\n",
            "sysconfig                     | /usr/lib/python3.6\n",
            "tabnanny                      | /usr/lib/python3.6\n",
            "tarfile                       | /usr/lib/python3.6\n",
            "telnetlib                     | /usr/lib/python3.6\n",
            "tempfile                      | /usr/lib/python3.6\n",
            "test                          | /usr/lib/python3.6\n",
            "textwrap                      | /usr/lib/python3.6\n",
            "this                          | /usr/lib/python3.6\n",
            "threading                     | /usr/lib/python3.6\n",
            "timeit                        | /usr/lib/python3.6\n",
            "tkinter                       | /usr/lib/python3.6\n",
            "token                         | /usr/lib/python3.6\n",
            "tokenize                      | /usr/lib/python3.6\n",
            "trace                         | /usr/lib/python3.6\n",
            "traceback                     | /usr/lib/python3.6\n",
            "tracemalloc                   | /usr/lib/python3.6\n",
            "tty                           | /usr/lib/python3.6\n",
            "turtle                        | /usr/lib/python3.6\n",
            "types                         | /usr/lib/python3.6\n",
            "typing                        | /usr/lib/python3.6\n",
            "unittest                      | /usr/lib/python3.6\n",
            "urllib                        | /usr/lib/python3.6\n",
            "uu                            | /usr/lib/python3.6\n",
            "uuid                          | /usr/lib/python3.6\n",
            "venv                          | /usr/lib/python3.6\n",
            "warnings                      | /usr/lib/python3.6\n",
            "wave                          | /usr/lib/python3.6\n",
            "weakref                       | /usr/lib/python3.6\n",
            "webbrowser                    | /usr/lib/python3.6\n",
            "wsgiref                       | /usr/lib/python3.6\n",
            "xdrlib                        | /usr/lib/python3.6\n",
            "xml                           | /usr/lib/python3.6\n",
            "xmlrpc                        | /usr/lib/python3.6\n",
            "zipapp                        | /usr/lib/python3.6\n",
            "zipfile                       | /usr/lib/python3.6\n",
            "_asyncio                      | /usr/lib/python3.6/lib-dynload\n",
            "_bz2                          | /usr/lib/python3.6/lib-dynload\n",
            "_codecs_cn                    | /usr/lib/python3.6/lib-dynload\n",
            "_codecs_hk                    | /usr/lib/python3.6/lib-dynload\n",
            "_codecs_iso2022               | /usr/lib/python3.6/lib-dynload\n",
            "_codecs_jp                    | /usr/lib/python3.6/lib-dynload\n",
            "_codecs_kr                    | /usr/lib/python3.6/lib-dynload\n",
            "_codecs_tw                    | /usr/lib/python3.6/lib-dynload\n",
            "_crypt                        | /usr/lib/python3.6/lib-dynload\n",
            "_csv                          | /usr/lib/python3.6/lib-dynload\n",
            "_ctypes                       | /usr/lib/python3.6/lib-dynload\n",
            "_ctypes_test                  | /usr/lib/python3.6/lib-dynload\n",
            "_curses                       | /usr/lib/python3.6/lib-dynload\n",
            "_curses_panel                 | /usr/lib/python3.6/lib-dynload\n",
            "_dbm                          | /usr/lib/python3.6/lib-dynload\n",
            "_decimal                      | /usr/lib/python3.6/lib-dynload\n",
            "_gdbm                         | /usr/lib/python3.6/lib-dynload\n",
            "_hashlib                      | /usr/lib/python3.6/lib-dynload\n",
            "_json                         | /usr/lib/python3.6/lib-dynload\n",
            "_lsprof                       | /usr/lib/python3.6/lib-dynload\n",
            "_lzma                         | /usr/lib/python3.6/lib-dynload\n",
            "_multibytecodec               | /usr/lib/python3.6/lib-dynload\n",
            "_multiprocessing              | /usr/lib/python3.6/lib-dynload\n",
            "_opcode                       | /usr/lib/python3.6/lib-dynload\n",
            "_sqlite3                      | /usr/lib/python3.6/lib-dynload\n",
            "_ssl                          | /usr/lib/python3.6/lib-dynload\n",
            "_testbuffer                   | /usr/lib/python3.6/lib-dynload\n",
            "_testcapi                     | /usr/lib/python3.6/lib-dynload\n",
            "_testimportmultiple           | /usr/lib/python3.6/lib-dynload\n",
            "_testmultiphase               | /usr/lib/python3.6/lib-dynload\n",
            "_tkinter                      | /usr/lib/python3.6/lib-dynload\n",
            "audioop                       | /usr/lib/python3.6/lib-dynload\n",
            "mmap                          | /usr/lib/python3.6/lib-dynload\n",
            "nis                           | /usr/lib/python3.6/lib-dynload\n",
            "ossaudiodev                   | /usr/lib/python3.6/lib-dynload\n",
            "parser                        | /usr/lib/python3.6/lib-dynload\n",
            "readline                      | /usr/lib/python3.6/lib-dynload\n",
            "resource                      | /usr/lib/python3.6/lib-dynload\n",
            "termios                       | /usr/lib/python3.6/lib-dynload\n",
            "xxlimited                     | /usr/lib/python3.6/lib-dynload\n",
            "PIL                           | /home/guillaume/.local/lib/python3.6/site-packages\n",
            "absl                          | /home/guillaume/.local/lib/python3.6/site-packages\n",
            "astor                         | /home/guillaume/.local/lib/python3.6/site-packages\n",
            "caffe2                        | /home/guillaume/.local/lib/python3.6/site-packages\n",
            "cloudpickle                   | /home/guillaume/.local/lib/python3.6/site-packages\n",
            "cycler                        | /home/guillaume/.local/lib/python3.6/site-packages\n",
            "dask                          | /home/guillaume/.local/lib/python3.6/site-packages\n",
            "dateutil                      | /home/guillaume/.local/lib/python3.6/site-packages\n",
            "decorator                     | /home/guillaume/.local/lib/python3.6/site-packages\n",
            "easy_install                  | /home/guillaume/.local/lib/python3.6/site-packages\n",
            "gast                          | /home/guillaume/.local/lib/python3.6/site-packages\n",
            "grpc                          | /home/guillaume/.local/lib/python3.6/site-packages\n",
            "h5py                          | /home/guillaume/.local/lib/python3.6/site-packages\n",
            "importlib_metadata            | /home/guillaume/.local/lib/python3.6/site-packages\n",
            "joblib                        | /home/guillaume/.local/lib/python3.6/site-packages\n",
            "keras_applications            | /home/guillaume/.local/lib/python3.6/site-packages\n",
            "keras_preprocessing           | /home/guillaume/.local/lib/python3.6/site-packages\n",
            "kiwisolver                    | /home/guillaume/.local/lib/python3.6/site-packages\n",
            "lxml                          | /home/guillaume/.local/lib/python3.6/site-packages\n",
            "markdown                      | /home/guillaume/.local/lib/python3.6/site-packages\n",
            "numpy                         | /home/guillaume/.local/lib/python3.6/site-packages\n",
            "pasta                         | /home/guillaume/.local/lib/python3.6/site-packages\n",
            "pkg_resources                 | /home/guillaume/.local/lib/python3.6/site-packages\n",
            "pyparsing                     | /home/guillaume/.local/lib/python3.6/site-packages\n",
            "pywt                          | /home/guillaume/.local/lib/python3.6/site-packages\n",
            "scipy                         | /home/guillaume/.local/lib/python3.6/site-packages\n",
            "setuptools                    | /home/guillaume/.local/lib/python3.6/site-packages\n",
            "six                           | /home/guillaume/.local/lib/python3.6/site-packages\n",
            "skimage                       | /home/guillaume/.local/lib/python3.6/site-packages\n",
            "sklearn                       | /home/guillaume/.local/lib/python3.6/site-packages\n",
            "termcolor                     | /home/guillaume/.local/lib/python3.6/site-packages\n",
            "threadpoolctl                 | /home/guillaume/.local/lib/python3.6/site-packages\n",
            "tlz                           | /home/guillaume/.local/lib/python3.6/site-packages\n",
            "toolz                         | /home/guillaume/.local/lib/python3.6/site-packages\n",
            "torch                         | /home/guillaume/.local/lib/python3.6/site-packages\n",
            "tqdm                          | /home/guillaume/.local/lib/python3.6/site-packages\n",
            "werkzeug                      | /home/guillaume/.local/lib/python3.6/site-packages\n",
            "wheel                         | /home/guillaume/.local/lib/python3.6/site-packages\n",
            "wrapt                         | /home/guillaume/.local/lib/python3.6/site-packages\n",
            "zipp                          | /home/guillaume/.local/lib/python3.6/site-packages\n",
            "dataclasses                   | /usr/local/lib/python3.6/dist-packages\n",
            "google_drive_downloader       | /usr/local/lib/python3.6/dist-packages\n",
            "isodate                       | /usr/local/lib/python3.6/dist-packages\n",
            "matplotlib                    | /usr/local/lib/python3.6/dist-packages\n",
            "networkx                      | /usr/local/lib/python3.6/dist-packages\n",
            "pandas                        | /usr/local/lib/python3.6/dist-packages\n",
            "pygraphviz                    | /usr/local/lib/python3.6/dist-packages\n",
            "pylab                         | /usr/local/lib/python3.6/dist-packages\n",
            "rdflib                        | /usr/local/lib/python3.6/dist-packages\n",
            "tensorboard                   | /usr/local/lib/python3.6/dist-packages\n",
            "tensorboard_logger            | /usr/local/lib/python3.6/dist-packages\n",
            "torch_cluster                 | /usr/local/lib/python3.6/dist-packages\n",
            "torch_geometric               | /usr/local/lib/python3.6/dist-packages\n",
            "torch_scatter                 | /usr/local/lib/python3.6/dist-packages\n",
            "torch_sparse                  | /usr/local/lib/python3.6/dist-packages\n",
            "torch_spline_conv             | /usr/local/lib/python3.6/dist-packages\n",
            "torchaudio                    | /usr/local/lib/python3.6/dist-packages\n",
            "torchvision                   | /usr/local/lib/python3.6/dist-packages\n",
            "typing_extensions             | /usr/local/lib/python3.6/dist-packages\n",
            "yacs                          | /usr/local/lib/python3.6/dist-packages\n",
            "AptUrl                        | /usr/lib/python3/dist-packages\n",
            "CommandNotFound               | /usr/lib/python3/dist-packages\n",
            "Crypto                        | /usr/lib/python3/dist-packages\n",
            "IPython                       | /usr/lib/python3/dist-packages\n",
            "NvidiaDetector                | /usr/lib/python3/dist-packages\n",
            "Onboard                       | /usr/lib/python3/dist-packages\n",
            "PAM                           | /usr/lib/python3/dist-packages\n",
            "PyICU                         | /usr/lib/python3/dist-packages\n",
            "Quirks                        | /usr/lib/python3/dist-packages\n",
            "ScreenResolution              | /usr/lib/python3/dist-packages\n",
            "UbuntuDrivers                 | /usr/lib/python3/dist-packages\n",
            "UbuntuSystemService           | /usr/lib/python3/dist-packages\n",
            "Xlib                          | /usr/lib/python3/dist-packages\n",
            "_blueman                      | /usr/lib/python3/dist-packages\n",
            "_cffi_backend                 | /usr/lib/python3/dist-packages\n",
            "_dbus_bindings                | /usr/lib/python3/dist-packages\n",
            "_dbus_glib_bindings           | /usr/lib/python3/dist-packages\n",
            "_icu                          | /usr/lib/python3/dist-packages\n",
            "_version                      | /usr/lib/python3/dist-packages\n",
            "_yaml                         | /usr/lib/python3/dist-packages\n",
            "apport                        | /usr/lib/python3/dist-packages\n",
            "apport_python_hook            | /usr/lib/python3/dist-packages\n",
            "apt                           | /usr/lib/python3/dist-packages\n",
            "apt_clone                     | /usr/lib/python3/dist-packages\n",
            "apt_inst                      | /usr/lib/python3/dist-packages\n",
            "apt_pkg                       | /usr/lib/python3/dist-packages\n",
            "aptdaemon                     | /usr/lib/python3/dist-packages\n",
            "aptsources                    | /usr/lib/python3/dist-packages\n",
            "asn1crypto                    | /usr/lib/python3/dist-packages\n",
            "bleach                        | /usr/lib/python3/dist-packages\n",
            "blueman                       | /usr/lib/python3/dist-packages\n",
            "brlapi                        | /usr/lib/python3/dist-packages\n",
            "bs4                           | /usr/lib/python3/dist-packages\n",
            "cairo                         | /usr/lib/python3/dist-packages\n",
            "caribou                       | /usr/lib/python3/dist-packages\n",
            "certifi                       | /usr/lib/python3/dist-packages\n",
            "chardet                       | /usr/lib/python3/dist-packages\n",
            "click                         | /usr/lib/python3/dist-packages\n",
            "colorama                      | /usr/lib/python3/dist-packages\n",
            "configobj                     | /usr/lib/python3/dist-packages\n",
            "cryptography                  | /usr/lib/python3/dist-packages\n",
            "cups                          | /usr/lib/python3/dist-packages\n",
            "cupsext                       | /usr/lib/python3/dist-packages\n",
            "cupshelpers                   | /usr/lib/python3/dist-packages\n",
            "curl                          | /usr/lib/python3/dist-packages\n",
            "dbus                          | /usr/lib/python3/dist-packages\n",
            "deb822                        | /usr/lib/python3/dist-packages\n",
            "debian                        | /usr/lib/python3/dist-packages\n",
            "debian_bundle                 | /usr/lib/python3/dist-packages\n",
            "defer                         | /usr/lib/python3/dist-packages\n",
            "distro                        | /usr/lib/python3/dist-packages\n",
            "entrypoints                   | /usr/lib/python3/dist-packages\n",
            "evdev                         | /usr/lib/python3/dist-packages\n",
            "gi                            | /usr/lib/python3/dist-packages\n",
            "hpmudext                      | /usr/lib/python3/dist-packages\n",
            "html5lib                      | /usr/lib/python3/dist-packages\n",
            "httplib2                      | /usr/lib/python3/dist-packages\n",
            "icu                           | /usr/lib/python3/dist-packages\n",
            "idna                          | /usr/lib/python3/dist-packages\n",
            "ipykernel                     | /usr/lib/python3/dist-packages\n",
            "ipykernel_launcher            | /usr/lib/python3/dist-packages\n",
            "ipython_genutils              | /usr/lib/python3/dist-packages\n",
            "ipywidgets                    | /usr/lib/python3/dist-packages\n",
            "jinja2                        | /usr/lib/python3/dist-packages\n",
            "jsonschema                    | /usr/lib/python3/dist-packages\n",
            "jupyter                       | /usr/lib/python3/dist-packages\n",
            "jupyter_client                | /usr/lib/python3/dist-packages\n",
            "jupyter_core                  | /usr/lib/python3/dist-packages\n",
            "keyring                       | /usr/lib/python3/dist-packages\n",
            "louis                         | /usr/lib/python3/dist-packages\n",
            "lsb_release                   | /usr/lib/python3/dist-packages\n",
            "lutris                        | /usr/lib/python3/dist-packages\n",
            "macaroonbakery                | /usr/lib/python3/dist-packages\n",
            "magic                         | /usr/lib/python3/dist-packages\n",
            "mako                          | /usr/lib/python3/dist-packages\n",
            "markupsafe                    | /usr/lib/python3/dist-packages\n",
            "mintcommon                    | /usr/lib/python3/dist-packages\n",
            "mistune                       | /usr/lib/python3/dist-packages\n",
            "nacl                          | /usr/lib/python3/dist-packages\n",
            "nbconvert                     | /usr/lib/python3/dist-packages\n",
            "nbformat                      | /usr/lib/python3/dist-packages\n",
            "netifaces                     | /usr/lib/python3/dist-packages\n",
            "notebook                      | /usr/lib/python3/dist-packages\n",
            "orca                          | /usr/lib/python3/dist-packages\n",
            "pandocfilters                 | /usr/lib/python3/dist-packages\n",
            "pcardext                      | /usr/lib/python3/dist-packages\n",
            "pexpect                       | /usr/lib/python3/dist-packages\n",
            "pickleshare                   | /usr/lib/python3/dist-packages\n",
            "pip                           | /usr/lib/python3/dist-packages\n",
            "problem_report                | /usr/lib/python3/dist-packages\n",
            "prompt_toolkit                | /usr/lib/python3/dist-packages\n",
            "psutil                        | /usr/lib/python3/dist-packages\n",
            "ptyprocess                    | /usr/lib/python3/dist-packages\n",
            "pyatspi                       | /usr/lib/python3/dist-packages\n",
            "pycurl                        | /usr/lib/python3/dist-packages\n",
            "pygments                      | /usr/lib/python3/dist-packages\n",
            "pygtkcompat                   | /usr/lib/python3/dist-packages\n",
            "pyinotify                     | /usr/lib/python3/dist-packages\n",
            "pymacaroons                   | /usr/lib/python3/dist-packages\n",
            "pyrfc3339                     | /usr/lib/python3/dist-packages\n",
            "pytz                          | /usr/lib/python3/dist-packages\n",
            "redshift_gtk                  | /usr/lib/python3/dist-packages\n",
            "reportlab                     | /usr/lib/python3/dist-packages\n",
            "requests                      | /usr/lib/python3/dist-packages\n",
            "requests_unixsocket           | /usr/lib/python3/dist-packages\n",
            "scanext                       | /usr/lib/python3/dist-packages\n",
            "scour                         | /usr/lib/python3/dist-packages\n",
            "secretstorage                 | /usr/lib/python3/dist-packages\n",
            "sessioninstaller              | /usr/lib/python3/dist-packages\n",
            "setproctitle                  | /usr/lib/python3/dist-packages\n",
            "simplegeneric                 | /usr/lib/python3/dist-packages\n",
            "speechd                       | /usr/lib/python3/dist-packages\n",
            "speechd_config                | /usr/lib/python3/dist-packages\n",
            "systemd                       | /usr/lib/python3/dist-packages\n",
            "terminado                     | /usr/lib/python3/dist-packages\n",
            "testpath                      | /usr/lib/python3/dist-packages\n",
            "tornado                       | /usr/lib/python3/dist-packages\n",
            "traitlets                     | /usr/lib/python3/dist-packages\n",
            "uaclient                      | /usr/lib/python3/dist-packages\n",
            "ufw                           | /usr/lib/python3/dist-packages\n",
            "uno                           | /usr/lib/python3/dist-packages\n",
            "unohelper                     | /usr/lib/python3/dist-packages\n",
            "urllib3                       | /usr/lib/python3/dist-packages\n",
            "validate                      | /usr/lib/python3/dist-packages\n",
            "wcwidth                       | /usr/lib/python3/dist-packages\n",
            "webencodings                  | /usr/lib/python3/dist-packages\n",
            "xapp                          | /usr/lib/python3/dist-packages\n",
            "xdg                           | /usr/lib/python3/dist-packages\n",
            "xkit                          | /usr/lib/python3/dist-packages\n",
            "yaml                          | /usr/lib/python3/dist-packages\n",
            "zmq                           | /usr/lib/python3/dist-packages\n",
            "autoreload                    | /usr/lib/python3/dist-packages/IPython/extensions\n",
            "cythonmagic                   | /usr/lib/python3/dist-packages/IPython/extensions\n",
            "rmagic                        | /usr/lib/python3/dist-packages/IPython/extensions\n",
            "storemagic                    | /usr/lib/python3/dist-packages/IPython/extensions\n",
            "sympyprinting                 | /usr/lib/python3/dist-packages/IPython/extensions\n"
          ]
        }
      ],
      "source": [
        "show_acceptable_modules()"
      ]
    },
    {
      "cell_type": "markdown",
      "metadata": {
        "id": "3SaAGxbhNE8W"
      },
      "source": [
        "**QUESTION 2**\n",
        "\n",
        "What is displayed on the last output?\n",
        "\n",
        "Which is the used Python version?\n",
        "\n",
        "For this TP1, you will need:\n",
        "- pandas\n",
        "- matplotlib\n",
        "- numpy\n",
        "- sklearn\n",
        "\n",
        "Are these packages installed in this environment?"
      ]
    },
    {
      "cell_type": "markdown",
      "metadata": {
        "id": "plKPi2AyOJbH"
      },
      "source": [
        "**TO DO 1.3**\n",
        "\n",
        "Execute the following cell"
      ]
    },
    {
      "cell_type": "code",
      "execution_count": null,
      "metadata": {
        "id": "uA8_Sk99OCwx",
        "outputId": "0377c15e-9203-4605-e92e-0219d124445f"
      },
      "outputs": [
        {
          "ename": "NameError",
          "evalue": "name 'pandas' is not defined",
          "output_type": "error",
          "traceback": [
            "\u001b[0;31m---------------------------------------------------------------------------\u001b[0m",
            "\u001b[0;31mNameError\u001b[0m                                 Traceback (most recent call last)",
            "\u001b[0;32m<ipython-input-1-068244f7ed4b>\u001b[0m in \u001b[0;36m<module>\u001b[0;34m()\u001b[0m\n\u001b[0;32m----> 1\u001b[0;31m \u001b[0mpandas\u001b[0m\u001b[0;34m.\u001b[0m\u001b[0m__version__\u001b[0m\u001b[0;34m\u001b[0m\u001b[0;34m\u001b[0m\u001b[0m\n\u001b[0m",
            "\u001b[0;31mNameError\u001b[0m: name 'pandas' is not defined"
          ]
        }
      ],
      "source": [
        "pandas.__version__"
      ]
    },
    {
      "cell_type": "markdown",
      "metadata": {
        "id": "s-fXaMVZOUz6"
      },
      "source": [
        "**QUESTION 3**\n",
        "\n",
        "How would you solve this error?"
      ]
    },
    {
      "cell_type": "markdown",
      "metadata": {
        "id": "UeFUQwYnOkOc"
      },
      "source": [
        "## STEP 2: Data manipulation and visualization\n"
      ]
    },
    {
      "cell_type": "markdown",
      "metadata": {
        "id": "jooNCqdVO3DM"
      },
      "source": [
        "**TO DO 2.1**\n",
        "\n",
        "Execute the following cell"
      ]
    },
    {
      "cell_type": "code",
      "execution_count": null,
      "metadata": {
        "id": "rDNpZKEOO85F",
        "outputId": "b2a3cedb-9eb9-467a-8b48-91c0681baebd"
      },
      "outputs": [
        {
          "name": "stdout",
          "output_type": "stream",
          "text": [
            "<class 'pandas.core.frame.DataFrame'>\n",
            "Int64Index: 1649 entries, 0 to 2937\n",
            "Data columns (total 22 columns):\n",
            " #   Column                           Non-Null Count  Dtype  \n",
            "---  ------                           --------------  -----  \n",
            " 0   Country                          1649 non-null   object \n",
            " 1   Year                             1649 non-null   int64  \n",
            " 2   Status                           1649 non-null   object \n",
            " 3   Life_expectancy                  1649 non-null   float64\n",
            " 4   Adult_mortality                  1649 non-null   float64\n",
            " 5   Infant_deaths                    1649 non-null   int64  \n",
            " 6   Alcohol                          1649 non-null   float64\n",
            " 7   Percentage_expenditure           1649 non-null   float64\n",
            " 8   Hepatitis_B                      1649 non-null   float64\n",
            " 9   Measles                          1649 non-null   int64  \n",
            " 10  BMI                              1649 non-null   float64\n",
            " 11  Under-five_deaths                1649 non-null   int64  \n",
            " 12  Polio                            1649 non-null   float64\n",
            " 13  Total_expenditure                1649 non-null   float64\n",
            " 14  Diphtheria                       1649 non-null   float64\n",
            " 15  HIV_AIDS                         1649 non-null   float64\n",
            " 16  GDP                              1649 non-null   float64\n",
            " 17  Population                       1649 non-null   float64\n",
            " 18  Thinness _1-19_years             1649 non-null   float64\n",
            " 19  Thinness_5-9_years               1649 non-null   float64\n",
            " 20  Income_composition_of_resources  1649 non-null   float64\n",
            " 21  Schooling                        1649 non-null   float64\n",
            "dtypes: float64(16), int64(4), object(2)\n",
            "memory usage: 296.3+ KB\n"
          ]
        }
      ],
      "source": [
        "import pandas as pd\n",
        "import matplotlib.pyplot as plt\n",
        "\n",
        "df = pd.read_csv(\"data/Life_Expectancy_Data.csv\")\n",
        "df = df.dropna()\n",
        "df.info()"
      ]
    },
    {
      "cell_type": "markdown",
      "metadata": {
        "id": "OdmKi5iNPEpg"
      },
      "source": [
        "**QUESTION 4**\n",
        "\n",
        "Can you explain the different elements printed on the last output?"
      ]
    },
    {
      "cell_type": "code",
      "execution_count": null,
      "metadata": {
        "id": "TO2VhknbPPcD"
      },
      "outputs": [],
      "source": [
        "df1 = df[(df.Country == \"France\") & (df.Year > 2010)]\n",
        "print(\"df1: \", df1)\n",
        "df2 = df[(df.Country == \"France\")].Year\n",
        "print(\"df2: \", df2)"
      ]
    },
    {
      "cell_type": "markdown",
      "metadata": {
        "id": "HIPyWcrYPicD"
      },
      "source": [
        "**QUESTION 5**\n",
        "\n",
        "How do you interpret the new Data Frame df1 compared to df? What represents df2 compared to df1?"
      ]
    },
    {
      "cell_type": "markdown",
      "metadata": {
        "id": "ZOiWa2vsPq-A"
      },
      "source": [
        "**TO CODE 2.2**\n",
        "\n",
        "What is the range of life expectancy of Belgium between 2004 and 2008?"
      ]
    },
    {
      "cell_type": "code",
      "execution_count": null,
      "metadata": {
        "id": "G6bvJ4oQPyiU"
      },
      "outputs": [],
      "source": []
    },
    {
      "cell_type": "markdown",
      "metadata": {
        "id": "JQ5hQwbzP-IQ"
      },
      "source": [
        "**TO DO 2.3**\n",
        "\n",
        "Compute the correlation among all features"
      ]
    },
    {
      "cell_type": "code",
      "execution_count": null,
      "metadata": {
        "id": "wR83je-kQFD8",
        "outputId": "0a0e554e-74cc-48ba-d33f-272559d41c65"
      },
      "outputs": [
        {
          "name": "stdout",
          "output_type": "stream",
          "text": [
            "                                     Year  Life_expectancy  Adult_mortality  \\\n",
            "Year                             1.000000         0.050771        -0.037092   \n",
            "Life_expectancy                  0.050771         1.000000        -0.702523   \n",
            "Adult_mortality                 -0.037092        -0.702523         1.000000   \n",
            "Infant_deaths                    0.008029        -0.169074         0.042450   \n",
            "Alcohol                         -0.113365         0.402718        -0.175535   \n",
            "Percentage_expenditure           0.069553         0.409631        -0.237610   \n",
            "Hepatitis_B                      0.114897         0.199935        -0.105225   \n",
            "Measles                         -0.053822        -0.068881        -0.003967   \n",
            "BMI                              0.005739         0.542042        -0.351542   \n",
            "Under-five_deaths                0.010479        -0.192265         0.060365   \n",
            "Polio                           -0.016699         0.327294        -0.199853   \n",
            "Total_expenditure                0.059493         0.174718        -0.085227   \n",
            "Diphtheria                       0.029641         0.341331        -0.191429   \n",
            "HIV_AIDS                        -0.123405        -0.592236         0.550691   \n",
            "GDP                              0.096421         0.441322        -0.255035   \n",
            "Population                       0.012567        -0.022305        -0.015012   \n",
            "Thinness _1-19_years             0.019757        -0.457838         0.272230   \n",
            "Thinness_5-9_years               0.014122        -0.457508         0.286723   \n",
            "Income_composition_of_resources  0.122892         0.721083        -0.442203   \n",
            "Schooling                        0.088732         0.727630        -0.421171   \n",
            "\n",
            "                                 Infant_deaths   Alcohol  \\\n",
            "Year                                  0.008029 -0.113365   \n",
            "Life_expectancy                      -0.169074  0.402718   \n",
            "Adult_mortality                       0.042450 -0.175535   \n",
            "Infant_deaths                         1.000000 -0.106217   \n",
            "Alcohol                              -0.106217  1.000000   \n",
            "Percentage_expenditure               -0.090765  0.417047   \n",
            "Hepatitis_B                          -0.231769  0.109889   \n",
            "Measles                               0.532680 -0.050110   \n",
            "BMI                                  -0.234425  0.353396   \n",
            "Under-five_deaths                     0.996906 -0.101082   \n",
            "Polio                                -0.156929  0.240315   \n",
            "Total_expenditure                    -0.146951  0.214885   \n",
            "Diphtheria                           -0.161871  0.242951   \n",
            "HIV_AIDS                              0.007712 -0.027113   \n",
            "GDP                                  -0.098092  0.443433   \n",
            "Population                            0.671758 -0.028880   \n",
            "Thinness _1-19_years                  0.463415 -0.403755   \n",
            "Thinness_5-9_years                    0.461908 -0.386208   \n",
            "Income_composition_of_resources      -0.134754  0.561074   \n",
            "Schooling                            -0.214372  0.616975   \n",
            "\n",
            "                                 Percentage_expenditure  Hepatitis_B  \\\n",
            "Year                                           0.069553     0.114897   \n",
            "Life_expectancy                                0.409631     0.199935   \n",
            "Adult_mortality                               -0.237610    -0.105225   \n",
            "Infant_deaths                                 -0.090765    -0.231769   \n",
            "Alcohol                                        0.417047     0.109889   \n",
            "Percentage_expenditure                         1.000000     0.016760   \n",
            "Hepatitis_B                                    0.016760     1.000000   \n",
            "Measles                                       -0.063071    -0.124800   \n",
            "BMI                                            0.242738     0.143302   \n",
            "Under-five_deaths                             -0.092158    -0.240766   \n",
            "Polio                                          0.128626     0.463331   \n",
            "Total_expenditure                              0.183872     0.113327   \n",
            "Diphtheria                                     0.134813     0.588990   \n",
            "HIV_AIDS                                      -0.095085    -0.094802   \n",
            "GDP                                            0.959299     0.041850   \n",
            "Population                                    -0.016792    -0.129723   \n",
            "Thinness _1-19_years                          -0.255035    -0.129406   \n",
            "Thinness_5-9_years                            -0.255635    -0.133251   \n",
            "Income_composition_of_resources                0.402170     0.184921   \n",
            "Schooling                                      0.422088     0.215182   \n",
            "\n",
            "                                  Measles       BMI  Under-five_deaths  \\\n",
            "Year                            -0.053822  0.005739           0.010479   \n",
            "Life_expectancy                 -0.068881  0.542042          -0.192265   \n",
            "Adult_mortality                 -0.003967 -0.351542           0.060365   \n",
            "Infant_deaths                    0.532680 -0.234425           0.996906   \n",
            "Alcohol                         -0.050110  0.353396          -0.101082   \n",
            "Percentage_expenditure          -0.063071  0.242738          -0.092158   \n",
            "Hepatitis_B                     -0.124800  0.143302          -0.240766   \n",
            "Measles                          1.000000 -0.153245           0.517506   \n",
            "BMI                             -0.153245  1.000000          -0.242137   \n",
            "Under-five_deaths                0.517506 -0.242137           1.000000   \n",
            "Polio                           -0.057850  0.186268          -0.171164   \n",
            "Total_expenditure               -0.113583  0.189469          -0.145803   \n",
            "Diphtheria                      -0.058606  0.176295          -0.178448   \n",
            "HIV_AIDS                        -0.003522 -0.210897           0.019476   \n",
            "GDP                             -0.064768  0.266114          -0.100331   \n",
            "Population                       0.321946 -0.081416           0.658680   \n",
            "Thinness _1-19_years             0.180642 -0.547018           0.464785   \n",
            "Thinness_5-9_years               0.174946 -0.554094           0.462289   \n",
            "Income_composition_of_resources -0.058277  0.510505          -0.148097   \n",
            "Schooling                       -0.115660  0.554844          -0.226013   \n",
            "\n",
            "                                    Polio  Total_expenditure  Diphtheria  \\\n",
            "Year                            -0.016699           0.059493    0.029641   \n",
            "Life_expectancy                  0.327294           0.174718    0.341331   \n",
            "Adult_mortality                 -0.199853          -0.085227   -0.191429   \n",
            "Infant_deaths                   -0.156929          -0.146951   -0.161871   \n",
            "Alcohol                          0.240315           0.214885    0.242951   \n",
            "Percentage_expenditure           0.128626           0.183872    0.134813   \n",
            "Hepatitis_B                      0.463331           0.113327    0.588990   \n",
            "Measles                         -0.057850          -0.113583   -0.058606   \n",
            "BMI                              0.186268           0.189469    0.176295   \n",
            "Under-five_deaths               -0.171164          -0.145803   -0.178448   \n",
            "Polio                            1.000000           0.119768    0.609245   \n",
            "Total_expenditure                0.119768           1.000000    0.129915   \n",
            "Diphtheria                       0.609245           0.129915    1.000000   \n",
            "HIV_AIDS                        -0.107885           0.043101   -0.117601   \n",
            "GDP                              0.156809           0.180373    0.158438   \n",
            "Population                      -0.045387          -0.079962   -0.039898   \n",
            "Thinness _1-19_years            -0.164070          -0.209872   -0.187242   \n",
            "Thinness_5-9_years              -0.174489          -0.217865   -0.180952   \n",
            "Income_composition_of_resources  0.314682           0.183653    0.343262   \n",
            "Schooling                        0.350147           0.243783    0.350398   \n",
            "\n",
            "                                 HIV_AIDS       GDP  Population  \\\n",
            "Year                            -0.123405  0.096421    0.012567   \n",
            "Life_expectancy                 -0.592236  0.441322   -0.022305   \n",
            "Adult_mortality                  0.550691 -0.255035   -0.015012   \n",
            "Infant_deaths                    0.007712 -0.098092    0.671758   \n",
            "Alcohol                         -0.027113  0.443433   -0.028880   \n",
            "Percentage_expenditure          -0.095085  0.959299   -0.016792   \n",
            "Hepatitis_B                     -0.094802  0.041850   -0.129723   \n",
            "Measles                         -0.003522 -0.064768    0.321946   \n",
            "BMI                             -0.210897  0.266114   -0.081416   \n",
            "Under-five_deaths                0.019476 -0.100331    0.658680   \n",
            "Polio                           -0.107885  0.156809   -0.045387   \n",
            "Total_expenditure                0.043101  0.180373   -0.079962   \n",
            "Diphtheria                      -0.117601  0.158438   -0.039898   \n",
            "HIV_AIDS                         1.000000 -0.108081   -0.027801   \n",
            "GDP                             -0.108081  1.000000   -0.020369   \n",
            "Population                      -0.027801 -0.020369    1.000000   \n",
            "Thinness _1-19_years             0.172592 -0.277498    0.282529   \n",
            "Thinness_5-9_years               0.183147 -0.277959    0.277913   \n",
            "Income_composition_of_resources -0.248590  0.446856   -0.008132   \n",
            "Schooling                       -0.211840  0.467947   -0.040312   \n",
            "\n",
            "                                 Thinness _1-19_years  Thinness_5-9_years  \\\n",
            "Year                                         0.019757            0.014122   \n",
            "Life_expectancy                             -0.457838           -0.457508   \n",
            "Adult_mortality                              0.272230            0.286723   \n",
            "Infant_deaths                                0.463415            0.461908   \n",
            "Alcohol                                     -0.403755           -0.386208   \n",
            "Percentage_expenditure                      -0.255035           -0.255635   \n",
            "Hepatitis_B                                 -0.129406           -0.133251   \n",
            "Measles                                      0.180642            0.174946   \n",
            "BMI                                         -0.547018           -0.554094   \n",
            "Under-five_deaths                            0.464785            0.462289   \n",
            "Polio                                       -0.164070           -0.174489   \n",
            "Total_expenditure                           -0.209872           -0.217865   \n",
            "Diphtheria                                  -0.187242           -0.180952   \n",
            "HIV_AIDS                                     0.172592            0.183147   \n",
            "GDP                                         -0.277498           -0.277959   \n",
            "Population                                   0.282529            0.277913   \n",
            "Thinness _1-19_years                         1.000000            0.927913   \n",
            "Thinness_5-9_years                           0.927913            1.000000   \n",
            "Income_composition_of_resources             -0.453679           -0.438484   \n",
            "Schooling                                   -0.491199           -0.472482   \n",
            "\n",
            "                                 Income_composition_of_resources  Schooling  \n",
            "Year                                                    0.122892   0.088732  \n",
            "Life_expectancy                                         0.721083   0.727630  \n",
            "Adult_mortality                                        -0.442203  -0.421171  \n",
            "Infant_deaths                                          -0.134754  -0.214372  \n",
            "Alcohol                                                 0.561074   0.616975  \n",
            "Percentage_expenditure                                  0.402170   0.422088  \n",
            "Hepatitis_B                                             0.184921   0.215182  \n",
            "Measles                                                -0.058277  -0.115660  \n",
            "BMI                                                     0.510505   0.554844  \n",
            "Under-five_deaths                                      -0.148097  -0.226013  \n",
            "Polio                                                   0.314682   0.350147  \n",
            "Total_expenditure                                       0.183653   0.243783  \n",
            "Diphtheria                                              0.343262   0.350398  \n",
            "HIV_AIDS                                               -0.248590  -0.211840  \n",
            "GDP                                                     0.446856   0.467947  \n",
            "Population                                             -0.008132  -0.040312  \n",
            "Thinness _1-19_years                                   -0.453679  -0.491199  \n",
            "Thinness_5-9_years                                     -0.438484  -0.472482  \n",
            "Income_composition_of_resources                         1.000000   0.784741  \n",
            "Schooling                                               0.784741   1.000000  \n"
          ]
        }
      ],
      "source": [
        "print(df.corr())"
      ]
    },
    {
      "cell_type": "markdown",
      "metadata": {
        "id": "UXcFU3_ARz1C"
      },
      "source": [
        "**QUESTION 6**\n",
        "\n",
        "Which seems the most and the least promising values to use as a predictor for life expectancy?"
      ]
    },
    {
      "cell_type": "markdown",
      "metadata": {
        "id": "EZlknwdoSgcH"
      },
      "source": [
        "The function scatter of matplotlib allows to plot two values against each other. Here is the documentation about this function:\n",
        "\n",
        "```\n",
        "matplotlib.pyplot.scatter(x, y, s=None, c=None, marker=None, cmap=None, norm=None, vmin=None, vmax=None, alpha=None, linewidths=None, *, edgecolors=None, plotnonfinite=False, data=None, **kwargs)\n",
        "```\n",
        "Parameters:\n",
        "\n",
        "**x, y** float or array-like, shape (n, )\n",
        "\n",
        "The data positions.\n",
        "\n",
        "**s** float or array-like, shape (n, ), optional\n",
        "\n",
        "The marker size in points**2. Default is rcParams['lines.markersize'] ** 2.\n",
        "\n",
        "**c** array-like or list of colors or color, optional\n",
        "\n",
        "The marker colors. Possible values:\n",
        "\n",
        "- A scalar or sequence of n numbers to be mapped to colors using cmap and norm.\n",
        "\n",
        "- A 2D array in which the rows are RGB or RGBA.\n",
        "\n",
        "- A sequence of colors of length n.\n",
        "\n",
        "- A single color format string.\n",
        "\n",
        "**marker** MarkerStyle, default: rcParams (default: 'o')\n",
        "\n",
        "The marker style. marker can be either an instance of the class or the text shorthand for a particular marker. See matplotlib.markers for more information about marker styles.\n",
        "\n",
        "**cmapstr** or Colormap, default: rcParams(default: 'viridis')\n",
        "\n",
        "A Colormap instance or registered colormap name. cmap is only used if c is an array of floats.\n",
        "\n",
        "**norm** Normalize, default: None\n",
        "\n",
        "If c is an array of floats, norm is used to scale the color data, c, in the range 0 to 1, in order to map into the colormap cmap. If None, use the default colors.Normalize.\n",
        "\n",
        "**vmin, vmax** float, default: None\n",
        "\n",
        "vmin and vmax are used in conjunction with the default norm to map the color array c to the colormap cmap. If None, the respective min and max of the color array is used. It is deprecated to use vmin/vmax when norm is given.\n",
        "\n",
        "**alpha** float, default: None\n",
        "\n",
        "The alpha blending value, between 0 (transparent) and 1 (opaque).\n",
        "\n",
        "**linewidths** float or array-like, default: rcParams (default: 1.5)\n",
        "\n",
        "The linewidth of the marker edges. Note: The default edgecolors is 'face'. You may want to change this as well.\n",
        "\n",
        "**edgecolors** {'face', 'none', None} or color or sequence of color, default: rcParams[\"scatter.edgecolors\"] (default: 'face')\n",
        "\n",
        "The edge color of the marker. Possible values:\n",
        "\n",
        "- 'face': The edge color will always be the same as the face color.\n",
        "\n",
        "- 'none': No patch boundary will be drawn.\n",
        "        \n",
        "- A color or sequence of colors.\n",
        "\n",
        "For non-filled markers, edgecolors is ignored. Instead, the color is determined like with 'face', i.e. from c, colors, or facecolors.\n",
        "\n",
        "**plotnonfinite** bool, default: False\n",
        "\n",
        "Whether to plot points with nonfinite c (i.e. inf, -inf or nan). If True the points are drawn with the bad colormap color (see Colormap.set_bad).\n"
      ]
    },
    {
      "cell_type": "markdown",
      "metadata": {
        "id": "oU01fx8SUrrI"
      },
      "source": [
        "**TO CODE 2.4**\n",
        "\n",
        "Plot life expectancy against one of your chosen values."
      ]
    },
    {
      "cell_type": "code",
      "execution_count": null,
      "metadata": {
        "id": "o2HNsPbYUz2o"
      },
      "outputs": [],
      "source": []
    },
    {
      "cell_type": "markdown",
      "metadata": {
        "id": "i58CH05yO6Jm"
      },
      "source": [
        "## Checkpoint : 1\n",
        "Call your teacher to validate the parts 1 and 2"
      ]
    },
    {
      "cell_type": "markdown",
      "metadata": {
        "id": "S0LPy8bQU89J"
      },
      "source": [
        "## STEP 3: Simple Linear Regression"
      ]
    },
    {
      "cell_type": "code",
      "execution_count": null,
      "metadata": {
        "id": "IGQeYPIVVGEj"
      },
      "outputs": [],
      "source": [
        "import numpy as np"
      ]
    },
    {
      "cell_type": "markdown",
      "metadata": {
        "id": "i9YDznMfVJDJ"
      },
      "source": [
        "**TO CODE 3.1**\n",
        "\n",
        "Select the Life Expectancy and the Income composition of resources of Belarus, Madagascar, India and Lithuania. This new Data Frame will be called df_study"
      ]
    },
    {
      "cell_type": "code",
      "execution_count": null,
      "metadata": {
        "id": "5qPFHI2bVPxz"
      },
      "outputs": [],
      "source": []
    },
    {
      "cell_type": "markdown",
      "metadata": {
        "id": "_PKXxl6KVVx2"
      },
      "source": [
        "**TO CODE 3.2**\n",
        "\n",
        "Implement a simple least square function and apply it on the previous selected data."
      ]
    },
    {
      "cell_type": "code",
      "execution_count": null,
      "metadata": {
        "id": "JSv6B7r8VeCO"
      },
      "outputs": [],
      "source": []
    },
    {
      "cell_type": "code",
      "execution_count": null,
      "metadata": {
        "id": "xb1ANxIBO6Jn"
      },
      "outputs": [],
      "source": []
    },
    {
      "cell_type": "markdown",
      "metadata": {
        "id": "GtyENTZYO6Jn"
      },
      "source": [
        "**TO CODE 3.3**\n",
        "\n",
        "On the same figure, draw the line corresponding to your regression and the data points corresponding to df_study"
      ]
    },
    {
      "cell_type": "code",
      "execution_count": null,
      "metadata": {
        "id": "Xcra7U84O6Ju"
      },
      "outputs": [],
      "source": []
    },
    {
      "cell_type": "markdown",
      "metadata": {
        "id": "GZ96wpeeO6Ju"
      },
      "source": [
        "## Checkpoint : 2\n",
        "Call your teacher to validate the least square section"
      ]
    },
    {
      "cell_type": "markdown",
      "metadata": {
        "id": "rN969VMTVi7U"
      },
      "source": [
        "**TO CODE 3.4**\n",
        "\n",
        "Now, implement a Gradient Descend function `def gradDescent(x, y, w, alpha, iters)` where `x` are\n",
        "the covariates, `y` the target value, `w` the initial weights, `alpha` the learning rate and `iters` the number of gradient descent iterations. Your function should return all intermediary values of `w` that has been computed as a list.\n",
        "\n",
        "As a gentle reminder, Gradient Descent is an optimization algorithm for finding a local minimum of a differentiable function. It is an iterative algorithm that aim to find the `w`  that minimizes our objective function. Since we aim to minimize the squared error, we aim to minimize the function : $L(y, \\hat{y})=\\sum\\limits_{i=1}^n (y_i - w_1x_i-w_0)^2 $\n",
        "\n",
        "Since previous function is convex, the derivative at each point indicate the **opposite** direction of the minimum. Thus, the idea is to update each weight by a small proportion of the opposite of this direction :\n",
        "$w_i^{t+1} = w_i^t - \\alpha \\frac{d(L(y, \\hat{y}))}{d(w_i)}$\n",
        "\n",
        "Be careful : here we have to update two weights, so we have to compute both derivative. Pay also attention on the fact that the derivative is computed according to $w_i$. Once you noticed that, calculating the derivative is pretty straightforward"
      ]
    },
    {
      "cell_type": "code",
      "execution_count": null,
      "metadata": {
        "id": "j2r8IGYSVoL_"
      },
      "outputs": [],
      "source": []
    },
    {
      "cell_type": "markdown",
      "metadata": {
        "id": "VQpG25CiVzWM"
      },
      "source": [
        "**TO CODE 3.5**\n",
        "\n",
        "Compute the gradient descend on df_study for 1000 iterations with different values of `alpha`. You\n",
        "may initialize `theta` with `theta_0 = 0` and `theta_1 = 1`"
      ]
    },
    {
      "cell_type": "code",
      "execution_count": null,
      "metadata": {
        "id": "UcBnQMNAWDll"
      },
      "outputs": [],
      "source": []
    },
    {
      "cell_type": "markdown",
      "metadata": {
        "id": "AX03byhrWJvJ"
      },
      "source": [
        "**TO CODE 3.6**\n",
        "\n",
        "On the same figure, plot the evolution of theta_0 through the iterations for each different values of\n",
        "alpha you chose. Do the same thing for theta_1."
      ]
    },
    {
      "cell_type": "code",
      "execution_count": null,
      "metadata": {
        "id": "aqSKwaxEWVoU"
      },
      "outputs": [],
      "source": []
    },
    {
      "cell_type": "markdown",
      "metadata": {
        "id": "5zgsbk04We9F"
      },
      "source": [
        "**Question 7**\n",
        "\n",
        "Discuss on the role of alpha"
      ]
    },
    {
      "cell_type": "markdown",
      "metadata": {
        "id": "iOo29xisWxRo"
      },
      "source": [
        "$R^2$ is the coefficient of determination useful to score a regression against the ground truth data.\n",
        "\n",
        "This coefficient can be computed with a sklearn function:\n",
        "\n",
        "```\n",
        "sklearn.metrics.r2_score(y_true, y_pred, *, sample_weight=None, multioutput='uniform_average')\n",
        "```\n",
        "\n",
        "With:\n",
        "\n",
        "**y_true** array-like of shape (n_samples,) or (n_samples, n_outputs)\n",
        "\n",
        "Ground truth (correct) target values.\n",
        "\n",
        "**y_pred** array-like of shape (n_samples,) or (n_samples, n_outputs)\n",
        "\n",
        "Estimated target values.\n",
        "\n",
        "**sample_weight** array-like of shape (n_samples,), default=None\n",
        "\n",
        "Sample weights.\n",
        "\n",
        "**multioutput** {‘raw_values’, ‘uniform_average’, ‘variance_weighted’}, array-like of shape (n_outputs,) or None, default=’uniform_average’\n",
        "\n",
        "Defines aggregating of multiple output scores. Array-like value defines weights used to average scores. Default is “uniform_average”.\n",
        "\n",
        "- ‘raw_values’: Returns a full set of scores in case of multioutput input.\n",
        "\n",
        "- ‘uniform_average’: Scores of all outputs are averaged with uniform weight.\n",
        "\n",
        "- ‘variance_weighted’: Scores of all outputs are averaged, weighted by the variances of each individual output.\n"
      ]
    },
    {
      "cell_type": "code",
      "execution_count": null,
      "metadata": {
        "id": "NG9YymF4X5oN"
      },
      "outputs": [],
      "source": [
        "from sklearn.metrics import r2_score"
      ]
    },
    {
      "cell_type": "markdown",
      "metadata": {
        "id": "v6G_L1asX9Kp"
      },
      "source": [
        "**TO CODE 3.7**\n",
        "\n",
        "Compute $R^2$ on the regression with df_study"
      ]
    },
    {
      "cell_type": "code",
      "execution_count": null,
      "metadata": {
        "id": "mJr-e5OlYSx7"
      },
      "outputs": [],
      "source": []
    },
    {
      "cell_type": "markdown",
      "metadata": {
        "id": "ypKuUxvNYbW7"
      },
      "source": [
        "**QUESTION 8**\n",
        "\n",
        "Is linear regression suited between the two selected variables?"
      ]
    },
    {
      "cell_type": "markdown",
      "metadata": {
        "id": "gZY_AZShYfsH"
      },
      "source": [
        "**QUESTION 9**\n",
        "\n",
        "If not, what would be the relevant regression between these two variables?"
      ]
    },
    {
      "cell_type": "markdown",
      "metadata": {
        "id": "bnbZEIXqO6Jx"
      },
      "source": [
        "## Checkpoint : 3\n",
        "Call your teacher to validate the rest of section 3"
      ]
    },
    {
      "cell_type": "markdown",
      "metadata": {
        "id": "kIgB-0U2Yj2n"
      },
      "source": [
        "## STEP 4: Diagnostic visualization"
      ]
    },
    {
      "cell_type": "markdown",
      "metadata": {
        "id": "2eQbRNy3O6Jx"
      },
      "source": [
        "**TO CODE 4.1**\n",
        "\n",
        "Compute the residuals and plot the residuals vs fitted values."
      ]
    },
    {
      "cell_type": "code",
      "execution_count": null,
      "metadata": {
        "id": "aWT-Jp-nO6Jy"
      },
      "outputs": [],
      "source": []
    },
    {
      "cell_type": "markdown",
      "metadata": {
        "id": "TO3v5i7SO6Jy"
      },
      "source": [
        "**Question 10**\n",
        "\n",
        "What can you conclude about this plot ?\n"
      ]
    },
    {
      "cell_type": "markdown",
      "metadata": {
        "id": "cDtwMpacO6Jy"
      },
      "source": [
        "**TO CODE 4.2**\n",
        "\n",
        "Also compute the Scale Location plot\n"
      ]
    },
    {
      "cell_type": "code",
      "execution_count": null,
      "metadata": {
        "id": "3NmK3ZShO6Jy"
      },
      "outputs": [],
      "source": []
    },
    {
      "cell_type": "markdown",
      "metadata": {
        "id": "iP-b9ERvO6Jz"
      },
      "source": [
        "**Question 11**\n",
        "\n",
        "What can you conclude about this plot ?\n"
      ]
    },
    {
      "cell_type": "markdown",
      "metadata": {
        "id": "hBkPslrxO6Jz"
      },
      "source": [
        "**TO CODE 4.3**\n",
        "\n",
        "Compute now the Cook's distance for our data. You can compute it by yourself or use any library you can find.\n"
      ]
    },
    {
      "cell_type": "code",
      "execution_count": null,
      "metadata": {
        "id": "75pee2peO6Jz"
      },
      "outputs": [],
      "source": []
    },
    {
      "cell_type": "markdown",
      "metadata": {
        "id": "mmb_onUvO6Jz"
      },
      "source": [
        "**Question 12**\n",
        "\n",
        "What can you conclude about this plot ?\n"
      ]
    },
    {
      "cell_type": "markdown",
      "metadata": {
        "id": "2dm1N42OO6Jz"
      },
      "source": [
        "**TO DO 4.1**\n",
        "\n",
        "We are now adding multiple variable in our regression problem. Run the following cell in order to add multiple variables to your model :"
      ]
    },
    {
      "cell_type": "code",
      "execution_count": null,
      "metadata": {
        "id": "tJz6mI5VO6J0"
      },
      "outputs": [],
      "source": [
        "from sklearn.preprocessing import scale\n",
        "from sklearn.model_selection import train_test_split\n",
        "from sklearn.linear_model import Ridge, Lasso\n",
        "from sklearn.metrics import mean_squared_error\n",
        "\n",
        "df_study = df[(df.Country == \"Belarus\") | (df.Country == \"Madagascar\") | (df.Country == \"India\") | (df.Country == \"Lithuania\")]\n",
        "y = df_study.Life_expectancy\n",
        "X = df_study[['Adult_mortality', 'Alcohol', 'Total_expenditure', 'Income_composition_of_resources', 'Schooling', \"HIV_AIDS\"]].to_numpy(dtype='float64')"
      ]
    },
    {
      "cell_type": "markdown",
      "metadata": {
        "id": "YuosfYDGO6J0"
      },
      "source": [
        "**TO CODE 4.4**\n",
        "\n",
        "Dealing with too many variables can sometimes be counter-productive and it can be more interesting to remove some features. One way to evaluate the importance of each variable is to compute the f_test whose function is named f_regression in sklearn."
      ]
    },
    {
      "cell_type": "code",
      "execution_count": null,
      "metadata": {
        "id": "8_T4ZpdAO6J0"
      },
      "outputs": [],
      "source": []
    },
    {
      "cell_type": "markdown",
      "metadata": {
        "id": "Hgl-MPR7O6J0"
      },
      "source": [
        "**QUESTION 13**\n",
        "\n",
        "According to the f_test, rank each variable from the least to the most promising. Compare it with the correlation of your subset."
      ]
    },
    {
      "cell_type": "code",
      "execution_count": null,
      "metadata": {
        "id": "VRf3ljE7O6J0"
      },
      "outputs": [],
      "source": []
    },
    {
      "cell_type": "markdown",
      "metadata": {
        "id": "r_LyV3F7O6J1"
      },
      "source": [
        "## Checkpoint : 4\n",
        "Call your teacher to validate the section 4. Congrats, you finished the first TP !"
      ]
    },
    {
      "cell_type": "code",
      "execution_count": null,
      "metadata": {
        "id": "yLadsWHkO6J1"
      },
      "outputs": [],
      "source": []
    }
  ],
  "metadata": {
    "colab": {
      "provenance": [],
      "include_colab_link": true
    },
    "kernelspec": {
      "display_name": "Python 3 (ipykernel)",
      "language": "python",
      "name": "python3"
    },
    "language_info": {
      "codemirror_mode": {
        "name": "ipython",
        "version": 3
      },
      "file_extension": ".py",
      "mimetype": "text/x-python",
      "name": "python",
      "nbconvert_exporter": "python",
      "pygments_lexer": "ipython3",
      "version": "3.8.10"
    }
  },
  "nbformat": 4,
  "nbformat_minor": 0
}